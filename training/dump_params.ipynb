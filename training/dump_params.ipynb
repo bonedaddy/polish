{
 "cells": [
  {
   "cell_type": "code",
   "execution_count": 1,
   "metadata": {
    "collapsed": true
   },
   "outputs": [],
   "source": [
    "import os\n",
    "import tempfile\n",
    "from zipfile import ZipFile\n",
    "\n",
    "import torch\n",
    "import polish.models"
   ]
  },
  {
   "cell_type": "code",
   "execution_count": 2,
   "metadata": {
    "collapsed": true
   },
   "outputs": [],
   "source": [
    "model = polish.models.DeepDenoiser(conv2d=polish.models.SepConv2d)"
   ]
  },
  {
   "cell_type": "code",
   "execution_count": 3,
   "metadata": {},
   "outputs": [
    {
     "data": {
      "text/plain": [
       "<All keys matched successfully>"
      ]
     },
     "execution_count": 3,
     "metadata": {},
     "output_type": "execute_result"
    }
   ],
   "source": [
    "# Insert your trained model here.\n",
    "model.load_state_dict(torch.load('model.pt', map_location='cpu'))"
   ]
  },
  {
   "cell_type": "code",
   "execution_count": 4,
   "metadata": {},
   "outputs": [
    {
     "data": {
      "text/plain": [
       "odict_keys(['conv1.weight', 'conv1.bias', 'conv2.spatial.weight', 'conv2.spatial.bias', 'conv2.depthwise.weight', 'conv2.depthwise.bias', 'residuals.0.0.weight', 'residuals.0.0.bias', 'residuals.0.2.spatial.weight', 'residuals.0.2.spatial.bias', 'residuals.0.2.depthwise.weight', 'residuals.0.2.depthwise.bias', 'residuals.0.4.spatial.weight', 'residuals.0.4.spatial.bias', 'residuals.0.4.depthwise.weight', 'residuals.0.4.depthwise.bias', 'residuals.1.0.weight', 'residuals.1.0.bias', 'residuals.1.2.spatial.weight', 'residuals.1.2.spatial.bias', 'residuals.1.2.depthwise.weight', 'residuals.1.2.depthwise.bias', 'residuals.1.4.spatial.weight', 'residuals.1.4.spatial.bias', 'residuals.1.4.depthwise.weight', 'residuals.1.4.depthwise.bias', 'residuals.2.0.weight', 'residuals.2.0.bias', 'residuals.2.2.spatial.weight', 'residuals.2.2.spatial.bias', 'residuals.2.2.depthwise.weight', 'residuals.2.2.depthwise.bias', 'residuals.2.4.spatial.weight', 'residuals.2.4.spatial.bias', 'residuals.2.4.depthwise.weight', 'residuals.2.4.depthwise.bias', 'residuals.3.0.weight', 'residuals.3.0.bias', 'residuals.3.2.spatial.weight', 'residuals.3.2.spatial.bias', 'residuals.3.2.depthwise.weight', 'residuals.3.2.depthwise.bias', 'residuals.3.4.spatial.weight', 'residuals.3.4.spatial.bias', 'residuals.3.4.depthwise.weight', 'residuals.3.4.depthwise.bias', 'deconv1.weight', 'deconv1.bias', 'deconv2.weight', 'deconv2.bias', 'conv3.weight', 'conv3.bias'])"
      ]
     },
     "execution_count": 4,
     "metadata": {},
     "output_type": "execute_result"
    }
   ],
   "source": [
    "# We will export the parameters using these keys.\n",
    "#\n",
    "# Seeing the list may be helpful for implementing the\n",
    "# model in the Go API.\n",
    "model.state_dict().keys()"
   ]
  },
  {
   "cell_type": "code",
   "execution_count": 5,
   "metadata": {},
   "outputs": [
    {
     "name": "stdout",
     "output_type": "stream",
     "text": [
      "Created zip file of 1845282 bytes.\n"
     ]
    }
   ],
   "source": [
    "# Create a zip_data variable containing the parameters\n",
    "# as a zip file, with one file per array.\n",
    "with tempfile.TemporaryDirectory() as temp_dir:\n",
    "    zip_path = os.path.join(temp_dir, 'params.zip')\n",
    "    with ZipFile(zip_path, 'w') as f:\n",
    "        for k, v in model.state_dict().items():\n",
    "            arr = v.detach().cpu().numpy().flatten()\n",
    "            f.writestr('%s' % k, arr.tobytes())\n",
    "    with open(zip_path, 'rb') as f:\n",
    "        zip_data = f.read()\n",
    "print('Created zip file of %d bytes.' % len(zip_data))"
   ]
  },
  {
   "cell_type": "code",
   "execution_count": 6,
   "metadata": {
    "collapsed": true
   },
   "outputs": [],
   "source": [
    "def byte_str(b):\n",
    "    \"\"\"Convert a byte into an escape sequence for a string.\"\"\"\n",
    "    if b >= 32 and b <= 126 and b != ord('\\\\') and b != ord('\"'):\n",
    "        return chr(b)\n",
    "    return '\\\\x%02x' % b"
   ]
  },
  {
   "cell_type": "code",
   "execution_count": 8,
   "metadata": {},
   "outputs": [
    {
     "name": "stdout",
     "output_type": "stream",
     "text": [
      "Created code of length 5225861.\n"
     ]
    }
   ],
   "source": [
    "variable = 'deepModelZipData'\n",
    "go_code = 'package polish\\n\\nconst %s = \"' % variable\n",
    "go_code += ''.join(byte_str(x) for x in zip_data)\n",
    "go_code += '\"\\n'\n",
    "print('Created code of length %d.' % len(go_code))\n",
    "with open('model_data_deep.go', 'wt+') as f:\n",
    "    f.write(go_code)"
   ]
  }
 ],
 "metadata": {
  "kernelspec": {
   "display_name": "Python 3",
   "language": "python",
   "name": "python3"
  },
  "language_info": {
   "codemirror_mode": {
    "name": "ipython",
    "version": 3
   },
   "file_extension": ".py",
   "mimetype": "text/x-python",
   "name": "python",
   "nbconvert_exporter": "python",
   "pygments_lexer": "ipython3",
   "version": "3.6.1"
  }
 },
 "nbformat": 4,
 "nbformat_minor": 2
}
